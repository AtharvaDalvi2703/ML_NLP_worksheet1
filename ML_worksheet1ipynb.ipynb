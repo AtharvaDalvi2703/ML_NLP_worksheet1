{
  "nbformat": 4,
  "nbformat_minor": 0,
  "metadata": {
    "colab": {
      "provenance": [],
      "mount_file_id": "1TqkAz3hwpQyd34MLS31mo6C05l-iuKUO",
      "authorship_tag": "ABX9TyM5ZB3Zl5O7ZfXU4kK7HzD8",
      "include_colab_link": true
    },
    "kernelspec": {
      "name": "python3",
      "display_name": "Python 3"
    },
    "language_info": {
      "name": "python"
    }
  },
  "cells": [
    {
      "cell_type": "markdown",
      "metadata": {
        "id": "view-in-github",
        "colab_type": "text"
      },
      "source": [
        "<a href=\"https://colab.research.google.com/github/AtharvaDalvi2703/ML_NLP_worksheet1/blob/main/ML_worksheet1ipynb.ipynb\" target=\"_parent\"><img src=\"https://colab.research.google.com/assets/colab-badge.svg\" alt=\"Open In Colab\"/></a>"
      ]
    },
    {
      "cell_type": "markdown",
      "source": [
        "Problem 1\n"
      ],
      "metadata": {
        "id": "7sk_ZwYNdMdC"
      }
    },
    {
      "cell_type": "code",
      "source": [
        "import numpy as np\n",
        "arr= np.random.randint(1,51,size=(5,4))\n",
        "newarr=np.array([])#extracted elements\n",
        "col=len(arr[0])-1\n",
        "row=len(arr)\n",
        "print(arr)\n",
        "\n",
        "for x in  range(0,row):\n",
        "  newarr=np.append(newarr,arr[x][col])#antidiagonal\n",
        "  col-=1\n",
        "  if col<0:\n",
        "    break\n",
        "\n",
        "for x in range(0,len(arr)):\n",
        "  print(np.max(arr[x]),end=\" \")\n",
        "\n",
        "Mean=np.mean(arr)\n",
        "less=arr<=Mean\n",
        "less_than=arr[less] #less than or equal to\n",
        "print(\"\\n\",less_than)\n",
        "\n",
        "def numpy_boundry_traversal(matrix):\n",
        "    temp = matrix.copy()\n",
        "    spiral  = []\n",
        "\n",
        "    while temp.size:\n",
        "        spiral.extend(temp[0].tolist())\n",
        "        temp = temp[1:]\n",
        "        if temp.size == 0: break\n",
        "\n",
        "\n",
        "        spiral.extend(temp[:, -1].tolist())\n",
        "        temp = temp[:, :-1]\n",
        "        if temp.size == 0: break\n",
        "\n",
        "\n",
        "        spiral.extend(temp[-1, ::-1].tolist())\n",
        "        temp = temp[:-1]\n",
        "        if temp.size == 0: break\n",
        "\n",
        "\n",
        "        spiral.extend(temp[::-1, 0].tolist())\n",
        "        temp = temp[:, 1:]\n",
        "    return spiral\n",
        "\n",
        "print(numpy_boundry_traversal(arr))#spiral problem\n",
        "\n"
      ],
      "metadata": {
        "colab": {
          "base_uri": "https://localhost:8080/"
        },
        "id": "3d5tlH7jdpos",
        "outputId": "e61d4cc6-521d-4838-e9fa-993dace9a862"
      },
      "execution_count": null,
      "outputs": [
        {
          "output_type": "stream",
          "name": "stdout",
          "text": [
            "[[36 50 41  8]\n",
            " [35 37 50 47]\n",
            " [20 16 50 34]\n",
            " [ 1 10 47 13]\n",
            " [43  5 46 28]]\n",
            "50 50 50 47 46 \n",
            " [ 8 20 16  1 10 13  5 28]\n",
            "[36, 50, 41, 8, 47, 34, 13, 28, 46, 5, 43, 1, 20, 35, 37, 50, 50, 47, 10, 16]\n"
          ]
        }
      ]
    },
    {
      "cell_type": "markdown",
      "source": [
        "Problem 2"
      ],
      "metadata": {
        "id": "WwDEbwUT9o59"
      }
    },
    {
      "cell_type": "code",
      "source": [
        "import numpy as np\n",
        "arr=np.random.uniform(0,10,size=20)\n",
        "print(arr,'\\n')\n",
        "arr=arr.round(2)\n",
        "print(arr,'\\n')\n",
        "print(f\"Minimum: {arr.min()} Maximum: {arr.max() } Median: {np.median(arr)}\",'\\n')\n",
        "\n",
        "replacer=arr<5\n",
        "arr[replacer]=arr[replacer]**2\n",
        "\n",
        "def numpy_alternate_sort(array):\n",
        "  arr1=np.sort(array)\n",
        "  arr2=arr1[::-1]\n",
        "  arr=np.array([])\n",
        "  for x in range(0,len(array)):\n",
        "    if x%2==0:\n",
        "      arr=np.append(arr,arr1[x])\n",
        "    else:\n",
        "      arr=np.append(arr,arr2[x])\n",
        "  return arr\n",
        "\n",
        "print(numpy_alternate_sort(arr))\n",
        "\n"
      ],
      "metadata": {
        "colab": {
          "base_uri": "https://localhost:8080/"
        },
        "id": "3G1BlVnI9r4T",
        "outputId": "b8bf66b8-714e-4e8f-e320-14462b069313"
      },
      "execution_count": null,
      "outputs": [
        {
          "output_type": "stream",
          "name": "stdout",
          "text": [
            "[3.26222366 2.6729714  6.07012674 2.71028507 4.8793226  1.71669711\n",
            " 6.41346945 8.8522607  3.14899054 3.55509775 5.58288873 6.07316959\n",
            " 4.85751732 7.42185375 3.58202966 8.63555754 9.60287173 4.18414493\n",
            " 9.27110941 7.23777876] \n",
            "\n",
            "[3.26 2.67 6.07 2.71 4.88 1.72 6.41 8.85 3.15 3.56 5.58 6.07 4.86 7.42\n",
            " 3.58 8.64 9.6  4.18 9.27 7.24] \n",
            "\n",
            "Minimum: 1.72 Maximum: 9.6 Median: 5.23 \n",
            "\n",
            "[ 2.9584 23.6196  6.07   12.8164  6.41   10.6276  7.24    9.6     7.42\n",
            "  8.85    8.85    7.42    9.6     7.24   10.6276  6.41   12.8164  6.07\n",
            " 23.6196  2.9584]\n"
          ]
        }
      ]
    },
    {
      "cell_type": "markdown",
      "source": [
        "Problem 3"
      ],
      "metadata": {
        "id": "6LY2oY2RCyoF"
      }
    },
    {
      "cell_type": "code",
      "source": [
        "import pandas as pd\n",
        "import numpy as np\n",
        "\n",
        "subjects=[\"Maths\",\"Physics\",\"Chemistry\",\"IP\"]\n",
        "sub=(np.random.choice(subjects,size=10)).tolist()\n",
        "marks=(np.random.randint(0,101,size=10)).tolist()\n",
        "data={\"Name\":[\"Ram1\",\"Ram2\",\"Ram3\",\"Ram4\",\"Ram5\",\"Ram6\",\"Ram7\",\"Ram8\",\"Ram9\",\"Ram10\"],\"Subject\":sub,\"Marks\":marks}\n",
        "\n",
        "df=pd.DataFrame(data)\n",
        "\n",
        "def assign(marks):\n",
        "  if marks>=90:\n",
        "    return \"A\"\n",
        "  elif marks>=80:\n",
        "    return \"B\"\n",
        "  elif marks>=70:\n",
        "    return \"C\"\n",
        "  elif marks>=60:\n",
        "    return \"D\"\n",
        "  else:\n",
        "    return \"F\"\n",
        "\n",
        "df[\"Grade\"]=df[\"Marks\"].apply(assign)\n",
        "\n",
        "print(df,'\\n')\n",
        "print(df.sort_values(by=[\"Marks\"],ascending=False),'\\n')\n",
        "print(df.groupby(\"Subject\")[\"Marks\"].mean())\n",
        "\n",
        "def pandas_filter_pass(dataframe):\n",
        "  dataframe.drop(\"Marks\",axis=1,inplace=True)\n",
        "  dataframe.drop(\"Name\",axis=1,inplace=True)\n",
        "  dataframe.drop(\"Subject\",axis=1,inplace=True)\n",
        "\n",
        "  return dataframe\n",
        "\n",
        "print(pandas_filter_pass(df))\n"
      ],
      "metadata": {
        "colab": {
          "base_uri": "https://localhost:8080/"
        },
        "id": "VUP7RovJC0yT",
        "outputId": "7200c32e-d67e-4b0e-93ca-2b87ddd2b6df"
      },
      "execution_count": 1,
      "outputs": [
        {
          "output_type": "stream",
          "name": "stdout",
          "text": [
            "    Name    Subject  Marks Grade\n",
            "0   Ram1      Maths     97     A\n",
            "1   Ram2    Physics     84     B\n",
            "2   Ram3         IP     69     D\n",
            "3   Ram4  Chemistry     16     F\n",
            "4   Ram5  Chemistry     90     A\n",
            "5   Ram6      Maths     58     F\n",
            "6   Ram7      Maths     52     F\n",
            "7   Ram8    Physics     18     F\n",
            "8   Ram9    Physics     59     F\n",
            "9  Ram10         IP     73     C \n",
            "\n",
            "    Name    Subject  Marks Grade\n",
            "0   Ram1      Maths     97     A\n",
            "4   Ram5  Chemistry     90     A\n",
            "1   Ram2    Physics     84     B\n",
            "9  Ram10         IP     73     C\n",
            "2   Ram3         IP     69     D\n",
            "8   Ram9    Physics     59     F\n",
            "5   Ram6      Maths     58     F\n",
            "6   Ram7      Maths     52     F\n",
            "7   Ram8    Physics     18     F\n",
            "3   Ram4  Chemistry     16     F \n",
            "\n",
            "Subject\n",
            "Chemistry    53.000000\n",
            "IP           71.000000\n",
            "Maths        69.000000\n",
            "Physics      53.666667\n",
            "Name: Marks, dtype: float64\n",
            "  Grade\n",
            "0     A\n",
            "1     B\n",
            "2     D\n",
            "3     F\n",
            "4     A\n",
            "5     F\n",
            "6     F\n",
            "7     F\n",
            "8     F\n",
            "9     C\n"
          ]
        }
      ]
    },
    {
      "cell_type": "markdown",
      "source": [
        "Problem 4\n"
      ],
      "metadata": {
        "id": "KIQChkciu6JA"
      }
    },
    {
      "cell_type": "code",
      "source": [
        "import pandas as pd\n",
        "from sklearn.feature_extraction.text import CountVectorizer\n",
        "from sklearn.model_selection import train_test_split\n",
        "from sklearn.naive_bayes import MultinomialNB\n",
        "from sklearn.metrics import accuracy_score\n",
        "\n",
        "\n",
        "\n",
        "df=pd.read_csv(\"/content/drive/MyDrive/dataset/short_movies_reviews_sentiment.csv\")\n",
        "\n",
        "print(df)\n",
        "\n",
        "vectorize=CountVectorizer(max_features=500,stop_words='english')\n",
        "x=vectorize.fit_transform(df[\"review\"])\n",
        "y=df[\"sentiment\"]\n",
        "\n",
        "x_train,x_test,y_train,y_test=train_test_split(x,y,test_size=0.2,random_state=42)\n",
        "\n",
        "model=MultinomialNB()\n",
        "model.fit(x_train,y_train)\n",
        "\n",
        "acc=accuracy_score(y_test,y_predict)\n",
        "print(acc)\n",
        "\n",
        "def predict_review_sentiment(model,vectorizer,review):\n",
        "  review_tokens=vectorizer.fit_transform([review])\n",
        "  y=model.predict([review_tokens])\n",
        "  return y\n",
        "\n",
        "\n",
        "\n",
        "\n"
      ],
      "metadata": {
        "id": "jWmFU7Ygu8Wq",
        "colab": {
          "base_uri": "https://localhost:8080/"
        },
        "outputId": "0326f4ec-2436-4b63-d726-710244923323"
      },
      "execution_count": 21,
      "outputs": [
        {
          "output_type": "stream",
          "name": "stdout",
          "text": [
            "                                               review sentiment\n",
            "0     The score is captivating and was unforgettable.  positive\n",
            "1   The storytelling is engaging and was unforgett...  positive\n",
            "2   The cinematography is impressive and left me w...  positive\n",
            "3   The pacing is thought-provoking and stayed wit...  positive\n",
            "4    The pacing is impressive and was a true delight.  positive\n",
            "..                                                ...       ...\n",
            "95  The soundtrack is lackluster and failed to eng...  negative\n",
            "96  The pacing is lackluster and didn't leave an i...  negative\n",
            "97   The cinematography is predictable and fell flat.  negative\n",
            "98   The pacing is forgettable and felt like a chore.  negative\n",
            "99  The visuals is forgettable and was a disappoin...  negative\n",
            "\n",
            "[100 rows x 2 columns]\n",
            "1.0\n"
          ]
        }
      ]
    },
    {
      "cell_type": "markdown",
      "source": [
        "Problem 5"
      ],
      "metadata": {
        "id": "N5TNgqj0GDDW"
      }
    },
    {
      "cell_type": "code",
      "source": [
        "import pandas as pd\n",
        "from sklearn.feature_extraction.text import TfidfVectorizer\n",
        "from sklearn.linear_model import LogisticRegression\n",
        "from sklearn.model_selection import train_test_split\n",
        "from sklearn.metrics import f1_score\n",
        "from sklearn.metrics import precision_score\n",
        "from sklearn.metrics import recall_score\n",
        "from sklearn.pipeline import Pipeline\n",
        "from sklearn.preprocessing import LabelEncoder\n",
        "\n",
        "\n",
        "df=pd.read_csv(\"/content/drive/MyDrive/dataset/short_text_dataset.csv\")\n",
        "#print(df)\n",
        "\n",
        "x=df[\"text\"]\n",
        "y=df[\"label\"]\n",
        "x_train,x_test,y_train,y_test=train_test_split(x,y,test_size=0.25,random_state=42)\n",
        "\n",
        "le=LabelEncoder()\n",
        "y_train=le.fit_transform(y_train)\n",
        "y_test=le.transform(y_test)\n",
        "\n",
        "pipe=Pipeline([(\"Vectorizer\",TfidfVectorizer(max_features=300,stop_words=\"english\")),(\"Model\",LogisticRegression())])\n",
        "pipe.fit(x_train,y_train)\n",
        "y_predict=pipe.predict(x_test)\n",
        "print(df)\n",
        "\n",
        "print(f1_score(y_test,y_predict))\n",
        "print(precision_score(y_test,y_predict))\n",
        "print(recall_score(y_test,y_predict))\n",
        "\n",
        "def text_preprocess_vectorize(texts,vectorizer):\n",
        "  return vectorizer.fit_transform([texts])\n"
      ],
      "metadata": {
        "colab": {
          "base_uri": "https://localhost:8080/"
        },
        "id": "3F1EoRbeGFhQ",
        "outputId": "4ae57682-7a8c-4f37-cc17-66785baa5ef8"
      },
      "execution_count": 20,
      "outputs": [
        {
          "output_type": "stream",
          "name": "stdout",
          "text": [
            "                                  text label\n",
            "0               The plot is masterful.  good\n",
            "1                The plot is touching.  good\n",
            "2   The cinematography is predictable.   bad\n",
            "3              The movie is fantastic.  good\n",
            "4      The soundtrack is heartwarming.  good\n",
            "..                                 ...   ...\n",
            "95                 The acting is weak.   bad\n",
            "96     The cinematography is mediocre.   bad\n",
            "97             The movie is thrilling.  good\n",
            "98              The movie is mediocre.   bad\n",
            "99     The cinematography is touching.  good\n",
            "\n",
            "[100 rows x 2 columns]\n",
            "1.0\n",
            "1.0\n",
            "1.0\n"
          ]
        }
      ]
    }
  ]
}